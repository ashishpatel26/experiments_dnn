{
 "cells": [
  {
   "cell_type": "markdown",
   "metadata": {},
   "source": [
    "# Calibration - Reliability Diagrams of Dirichlet."
   ]
  },
  {
   "cell_type": "markdown",
   "metadata": {},
   "source": [
    "Generate reliability diagrams for the Dirichlet paper.\n",
    "\n",
    "1. Models need to be trained and tuned for calibrators\n",
    "    1. Dir-odir (dir_l2_mu_off)\n",
    "    2. For that read ReadMe.txt in scripts folder.\n",
    "2. Get only the best tunings as separate folder (TODO find the script for that)\n",
    "2. Run this notebook"
   ]
  },
  {
   "cell_type": "code",
   "execution_count": 1,
   "metadata": {},
   "outputs": [],
   "source": [
    "import sys\n",
    "from os import path\n",
    "sys.path.append( path.dirname( path.dirname( path.abspath(\"calibration\") ) ) )"
   ]
  },
  {
   "cell_type": "code",
   "execution_count": 2,
   "metadata": {},
   "outputs": [
    {
     "name": "stderr",
     "output_type": "stream",
     "text": [
      "Using TensorFlow backend.\n"
     ]
    }
   ],
   "source": [
    "import numpy as np\n",
    "import pandas as pd\n",
    "from os.path import join\n",
    "from calibration.cal_methods import evaluate, cal_results, TemperatureScaling, Dirichlet_NN\n",
    "from dirichlet import FullDirichletCalibrator\n",
    "import pickle\n",
    "from tune_dirichlet_nn_slim import kf_model\n",
    "from utility.unpickle_probs import unpickle_probs\n",
    "from utility.evaluation import softmax, get_bin_info, ECE\n",
    "from sklearn.metrics import log_loss"
   ]
  },
  {
   "cell_type": "code",
   "execution_count": 3,
   "metadata": {},
   "outputs": [],
   "source": [
    "import sys\n",
    "from os import path\n",
    "import os"
   ]
  },
  {
   "cell_type": "code",
   "execution_count": 4,
   "metadata": {},
   "outputs": [],
   "source": [
    "from matplotlib import pyplot as plt\n",
    "import seaborn as sns"
   ]
  },
  {
   "cell_type": "code",
   "execution_count": 5,
   "metadata": {},
   "outputs": [],
   "source": [
    "from IPython.display import display"
   ]
  },
  {
   "cell_type": "code",
   "execution_count": 6,
   "metadata": {},
   "outputs": [],
   "source": [
    "import sys\n",
    "from os import path\n",
    "import os\n",
    "import glob"
   ]
  },
  {
   "cell_type": "code",
   "execution_count": 7,
   "metadata": {},
   "outputs": [],
   "source": [
    "from sklearn.preprocessing import label_binarize\n"
   ]
  },
  {
   "cell_type": "markdown",
   "metadata": {},
   "source": [
    "## Get the best Lambda for each model"
   ]
  },
  {
   "cell_type": "markdown",
   "metadata": {},
   "source": [
    "Path to logits and tuning"
   ]
  },
  {
   "cell_type": "code",
   "execution_count": 8,
   "metadata": {},
   "outputs": [],
   "source": [
    "PATH_models_l2_mu_off = join(\"..\", \"..\", \"model_weights\", \"models_best_dir_l2_mu_off\")\n",
    "## NB! Folder contains already weights with optimal parameters.\n",
    "\n",
    "PATH = join('..', '..', 'logits')\n",
    "files_10 = ('probs_resnet_wide32_c10_logits.p', 'probs_densenet40_c10_logits.p',\n",
    "            'probs_lenet5_c10_logits.p', 'probs_resnet110_SD_c10_logits.p',\n",
    "           'probs_resnet110_c10_logits.p', 'probs_resnet152_SD_SVHN_logits.p')\n",
    "\n",
    "files_100 = ('probs_resnet_wide32_c100_logits.p', 'probs_densenet40_c100_logits.p',\n",
    "             'probs_lenet5_c100_logits.p', 'probs_resnet110_SD_c100_logits.p',\n",
    "             'probs_resnet110_c100_logits.p')"
   ]
  },
  {
   "cell_type": "markdown",
   "metadata": {},
   "source": [
    "## Load in models"
   ]
  },
  {
   "cell_type": "code",
   "execution_count": 9,
   "metadata": {},
   "outputs": [],
   "source": [
    "def get_weights_dir(path, ext = \".p\"):\n",
    "\n",
    "    file_path = join(path, \"*\" + ext)\n",
    "    files = glob.glob(file_path)\n",
    "\n",
    "    dict_weights = {}\n",
    "    dict_params = {}\n",
    "\n",
    "    for fname in files:\n",
    "\n",
    "        with open(fname, \"rb\") as f:\n",
    "            models, (name, l2, mu) = pickle.load(f)\n",
    "            weights = []\n",
    "\n",
    "            for w in models:\n",
    "                w = np.hstack([w[0].T, w[1].reshape(-1,1)])\n",
    "                weights.append(w)\n",
    "\n",
    "        dict_weights[name] = np.array(weights)\n",
    "        dict_params[name] = [l2, mu]\n",
    "\n",
    "    return (dict_weights, dict_params)"
   ]
  },
  {
   "cell_type": "code",
   "execution_count": 10,
   "metadata": {},
   "outputs": [],
   "source": [
    "weights_params_l2_mu_off = get_weights_dir(PATH_models_l2_mu_off)\n"
   ]
  },
  {
   "cell_type": "markdown",
   "metadata": {
    "collapsed": true
   },
   "source": [
    "## Reliability Diagrams"
   ]
  },
  {
   "cell_type": "markdown",
   "metadata": {},
   "source": [
    "### Compute Accuracy and Confidence of a Bin"
   ]
  },
  {
   "cell_type": "code",
   "execution_count": 11,
   "metadata": {},
   "outputs": [],
   "source": [
    "def get_bin_info2(probs, true, bin_size = 0.1, ece_full = False, normalize = False, k = -1):\n",
    "    \n",
    "    probs = np.array(probs)\n",
    "    true = np.array(true)\n",
    "    \n",
    "    if len(true.shape) == 2 and true.shape[1] > 1:\n",
    "        true = true.argmax(axis=1).reshape(-1, 1)\n",
    "    \n",
    "    if k == -1:\n",
    "    \n",
    "        if ece_full:\n",
    "\n",
    "            pred, conf, true = get_preds_all(probs, true, normalize=normalize, flatten=ece_full)\n",
    "        else:\n",
    "            pred = np.argmax(probs, axis=1)  # Take maximum confidence as prediction\n",
    "\n",
    "            if normalize:\n",
    "                conf = np.max(probs, axis=1)/np.sum(probs, axis=1)\n",
    "                # Check if everything below or equal to 1?\n",
    "            else:\n",
    "                conf = np.max(probs, axis=1)  # Take only maximum confidence\n",
    "        \n",
    "    else:\n",
    "        pred, conf, true = get_preds_k(probs, true, k)\n",
    "\n",
    "    \n",
    "    # get predictions, confidences and true labels for all classes  \n",
    "    \n",
    "    upper_bounds = np.arange(bin_size, 1+bin_size, bin_size)  # Get bounds of bins\n",
    "    \n",
    "    n = len(conf)\n",
    "    ece = 0  # Starting error\n",
    "    \n",
    "    accuracies = []\n",
    "    confidences = []\n",
    "    bin_lengths = []\n",
    "    \n",
    "    for conf_thresh in upper_bounds:  # Go through bounds and find accuracies and confidences\n",
    "        acc, avg_conf, len_bin = compute_acc_bin(conf_thresh-bin_size, conf_thresh, conf, pred, true, ece_full)  \n",
    "        \n",
    "        accuracies.append(acc)\n",
    "        confidences.append(avg_conf)\n",
    "        bin_lengths.append(len_bin)\n",
    "        \n",
    "    return np.array(accuracies), np.array(confidences), np.array(bin_lengths)"
   ]
  },
  {
   "cell_type": "code",
   "execution_count": 12,
   "metadata": {},
   "outputs": [],
   "source": [
    "def compute_acc_bin(conf_thresh_lower, conf_thresh_upper, conf, pred, true, ece_full = False):\n",
    "    \"\"\"\n",
    "    # Computes accuracy and average confidence for bin\n",
    "    \n",
    "    Args:\n",
    "        conf_thresh_lower (float): Lower Threshold of confidence interval\n",
    "        conf_thresh_upper (float): Upper Threshold of confidence interval\n",
    "        conf (numpy.ndarray): list of confidences\n",
    "        pred (numpy.ndarray): list of predictions\n",
    "        true (numpy.ndarray): list of true labels\n",
    "        pred_thresh (float) : float in range (0,1), indicating the prediction threshold\n",
    "    \n",
    "    Returns:\n",
    "        (accuracy, avg_conf, len_bin): accuracy of bin, confidence of bin and number of elements in bin.\n",
    "    \"\"\"\n",
    "    filtered_tuples = [x for x in zip(pred, true, conf) if (x[2] > conf_thresh_lower or conf_thresh_lower == 0) and x[2] <= conf_thresh_upper]  \n",
    "    \n",
    "    if len(filtered_tuples) < 1:\n",
    "        return 0,0,0\n",
    "    else:\n",
    "        if ece_full:\n",
    "            len_bin = len(filtered_tuples)  # How many elements falls into given bin\n",
    "            avg_conf = sum([x[2] for x in filtered_tuples])/len_bin  # Avg confidence of BIN\n",
    "            accuracy = np.mean([x[1] for x in filtered_tuples])  # Mean difference from actual class\n",
    "        \n",
    "        else:\n",
    "            correct = len([x for x in filtered_tuples if x[0] == x[1]])  # How many correct labels\n",
    "            len_bin = len(filtered_tuples)  # How many elements falls into given bin\n",
    "            avg_conf = sum([x[2] for x in filtered_tuples]) / len_bin  # Avg confidence of BIN\n",
    "            accuracy = float(correct)/len_bin  # accuracy of BIN\n",
    "        \n",
    "    return accuracy, avg_conf, len_bin"
   ]
  },
  {
   "cell_type": "markdown",
   "metadata": {},
   "source": [
    "#### Old function, but it together with new"
   ]
  },
  {
   "cell_type": "code",
   "execution_count": 13,
   "metadata": {},
   "outputs": [],
   "source": [
    "from sklearn.preprocessing import OneHotEncoder\n",
    "\n",
    "def get_preds_all(y_probs, y_true, axis = 1, normalize = False, flatten = True):\n",
    "    \n",
    "    y_preds = np.argmax(y_probs, axis=axis)  # Take maximum confidence as prediction\n",
    "    y_preds = y_preds.reshape(-1, 1)\n",
    "    \n",
    "    if normalize:\n",
    "        y_probs /= np.sum(y_probs, axis=axis)\n",
    "        \n",
    "    enc = OneHotEncoder(handle_unknown='ignore', sparse=False)   \n",
    "    enc.fit(y_preds)\n",
    "\n",
    "    y_preds = enc.transform(y_preds)\n",
    "    y_true = enc.transform(y_true)\n",
    "    \n",
    "    if flatten:        \n",
    "        y_preds = y_preds.flatten()\n",
    "        y_true = y_true.flatten()\n",
    "        y_probs = y_probs.flatten()\n",
    "        \n",
    "    return y_preds, y_probs, y_true"
   ]
  },
  {
   "cell_type": "code",
   "execution_count": 14,
   "metadata": {},
   "outputs": [],
   "source": [
    "from sklearn.preprocessing import OneHotEncoder\n",
    "\n",
    "def get_preds_k(y_probs, y_true, k, axis = 1):\n",
    "    \n",
    "    y_probs = y_probs[:, k]  # Take maximum confidence as prediction\n",
    "    y_preds = np.repeat(k, len(y_probs))   \n",
    "        \n",
    "    return y_preds, y_probs, y_true"
   ]
  },
  {
   "cell_type": "code",
   "execution_count": 15,
   "metadata": {},
   "outputs": [],
   "source": [
    "def get_uncalibrated_res(path, file, M = 15, method = np.max, k = -1):\n",
    "    \n",
    "    bin_size = 1/M\n",
    "\n",
    "    FILE_PATH = join(path, file)\n",
    "    (y_logits_val, y_val), (y_logits_test, y_test) = unpickle_probs(FILE_PATH)\n",
    "    \n",
    "    y_probs_val = softmax(y_logits_val)\n",
    "    y_probs_test = softmax(y_logits_test)\n",
    "\n",
    "    res_test = get_bin_info2(y_probs_test, y_test, bin_size = bin_size, k = k)\n",
    "    res_val = get_bin_info2(y_probs_val, y_val, bin_size = bin_size, k = k)\n",
    "    \n",
    "    return (res_test, res_val)\n",
    "\n"
   ]
  },
  {
   "cell_type": "code",
   "execution_count": 16,
   "metadata": {},
   "outputs": [],
   "source": [
    "def cal_res(method, path, file, M = 15, m_kwargs = {}, k = -1):\n",
    "    \n",
    "    bin_size = 1/M\n",
    "\n",
    "    FILE_PATH = join(path, file)\n",
    "    (y_logits_val, y_val), (y_logits_test, y_test) = unpickle_probs(FILE_PATH)\n",
    "    \n",
    "    y_probs_val = softmax(y_logits_val)  # Softmax logits\n",
    "    y_probs_test = softmax(y_logits_test)\n",
    "    \n",
    "\n",
    "    model = method(**m_kwargs)\n",
    "    model.fit(y_logits_val, y_val)\n",
    "\n",
    "    y_probs_val = model.predict(y_logits_val) \n",
    "    y_probs_test = model.predict(y_logits_test)\n",
    "\n",
    "    accs_val, confs_val, len_bins_val = get_bin_info2(y_probs_val, y_val, bin_size = bin_size, k = k)\n",
    "    accs_test, confs_test, len_bins_test = get_bin_info2(y_probs_test, y_test, bin_size = bin_size, k = k)\n",
    "    \n",
    "    return (accs_test, confs_test, len_bins_test), (accs_val, confs_val, len_bins_val)\n",
    "    "
   ]
  },
  {
   "cell_type": "code",
   "execution_count": 17,
   "metadata": {},
   "outputs": [],
   "source": [
    "def get_preds(x, w):\n",
    "    return softmax(np.log(clip_for_log(x)) @ w[:, :-1].T + w[:, -1])"
   ]
  },
  {
   "cell_type": "code",
   "execution_count": 18,
   "metadata": {},
   "outputs": [],
   "source": [
    "def clip_for_log(X):\n",
    "    eps = np.finfo(float).eps\n",
    "    return np.clip(X, eps, 1-eps)"
   ]
  },
  {
   "cell_type": "code",
   "execution_count": 19,
   "metadata": {},
   "outputs": [],
   "source": [
    "def get_dir_results(file, weights_model, M = 15, k = -1):\n",
    "    \n",
    "    bin_size = 1/M\n",
    "    \n",
    "    FILE_PATH = join(PATH, file)\n",
    "    (logits_val, y_val), (logits_test, y_test) = unpickle_probs(FILE_PATH)\n",
    "\n",
    "    probs_val = softmax(logits_val)  # Softmax logits\n",
    "    probs_test = softmax(logits_test)\n",
    "    \n",
    "    results_val = []\n",
    "    results_test = []\n",
    "\n",
    "    for w in weights_model:\n",
    "        get_preds(probs_test, w)\n",
    "        results_val.append(get_preds(probs_val, w))\n",
    "        results_test.append(get_preds(probs_test, w))\n",
    "\n",
    "\n",
    "    results_val_mean = np.mean(results_val, axis=0)\n",
    "    results_test_mean = np.mean(results_test, axis=0)\n",
    "    \n",
    "    accs_val, confs_val, len_bins_val = get_bin_info2(results_val_mean, y_val, bin_size = bin_size, k = k)\n",
    "    accs_test, confs_test, len_bins_test = get_bin_info2(results_test_mean, y_test, bin_size = bin_size, k = k)\n",
    "\n",
    "    return (accs_test, confs_test, len_bins_test), (accs_val, confs_val, len_bins_val)"
   ]
  },
  {
   "cell_type": "code",
   "execution_count": 20,
   "metadata": {},
   "outputs": [],
   "source": [
    "def plot_bin_importance(values, ax, M = 15, name = \"Importance of Bins\", xname = \"Confidence\", yname=\"\"):\n",
    "\n",
    "    \"\"\"Plot that shows how much each confidence interval adds to final ECE\"\"\"\n",
    "\n",
    "    bin_size = 1/M\n",
    "    positions = np.arange(0+bin_size/2, 1+bin_size/2, bin_size)\n",
    "    ax.bar(positions, values, width = bin_size, edgecolor = \"black\", color = \"blue\", label=\"Outputs\", zorder = 3)\n",
    "    \n",
    "    ax.set_aspect('equal')\n",
    "    #ax.plot([0,1], [0,1], linestyle = \"--\")\n",
    "    ax.set_xlim(0,1)\n",
    "    ax.set_ylim(0,1)\n",
    "    ax.set_title(name, fontsize=24)\n",
    "    ax.set_xlabel(xname, fontsize=22, color = \"black\")\n",
    "    ax.set_ylabel(yname, fontsize=22, color = \"black\")"
   ]
  },
  {
   "cell_type": "code",
   "execution_count": 21,
   "metadata": {},
   "outputs": [],
   "source": [
    "def get_errors(bin_info):\n",
    "    # Get error_standardized and ECE\n",
    "    \n",
    "    error = np.abs(np.array(bin_info[0]) - np.array(bin_info[1]))\n",
    "    lens = bin_info[2]\n",
    "    n = sum(lens)\n",
    "    error_norm = error*lens/n\n",
    "    error_standard = error_norm/sum(error_norm)\n",
    "    ECE = sum(error_norm)\n",
    "    \n",
    "    return error_standard, ECE"
   ]
  },
  {
   "cell_type": "markdown",
   "metadata": {},
   "source": [
    "### Generate lineplots"
   ]
  },
  {
   "cell_type": "code",
   "execution_count": 22,
   "metadata": {},
   "outputs": [],
   "source": [
    "def get_accs_confs(k, weights_all = weights_params_l2_mu_off, file = files_10[0], M = 15, v = 0):\n",
    "    \n",
    "    bin_info_uncal = get_uncalibrated_res(PATH, file, M=M, k=k)\n",
    "\n",
    "    accs_confs = [bin_info_uncal[v]]\n",
    "\n",
    "    accs_confs.append(cal_res(TemperatureScaling, PATH, file, M=M, k=k)[v])\n",
    "\n",
    "    name = \"_\".join(file.split(\"_\")[1:-1])  # file_name\n",
    "    print(name)\n",
    "    accs_confs.append(get_dir_results(file, weights_all[0][name], M=M, k=k)[v])\n",
    "    \n",
    "    return np.array(accs_confs)"
   ]
  },
  {
   "cell_type": "code",
   "execution_count": 23,
   "metadata": {},
   "outputs": [],
   "source": [
    "def gen_lineplots(files, weights_all, plot_names =  [], M = 15, val_set = False, version = \"ECE\", classes = 10, extra_plots = False):\n",
    "    \n",
    "    if val_set:  # Plot Reliability diagrams for validation set\n",
    "        v = 1\n",
    "    else:\n",
    "        v = 0\n",
    "        \n",
    "\n",
    "    for i, file in enumerate(files):\n",
    "        \n",
    "        k_accs_confs = []\n",
    "        \n",
    "        if classes > 0:\n",
    "        \n",
    "            for k in range(classes):\n",
    "\n",
    "                accs_confs = get_accs_confs(k, weights_all = weights_all, file = file, M = M, v = v)\n",
    "                k_accs_confs.append(accs_confs)\n",
    "        \n",
    "        else:\n",
    "            return get_accs_confs(-1, weights_all = weights_all, file = file, M = M, v = v)\n",
    "        \n",
    "        \n",
    "    return np.array(k_accs_confs)"
   ]
  },
  {
   "cell_type": "code",
   "execution_count": 24,
   "metadata": {},
   "outputs": [
    {
     "name": "stdout",
     "output_type": "stream",
     "text": [
      "resnet_wide32_c10\n",
      "resnet_wide32_c10\n",
      "resnet_wide32_c10\n",
      "resnet_wide32_c10\n",
      "resnet_wide32_c10\n",
      "resnet_wide32_c10\n",
      "resnet_wide32_c10\n",
      "resnet_wide32_c10\n",
      "resnet_wide32_c10\n",
      "resnet_wide32_c10\n"
     ]
    }
   ],
   "source": [
    "k_accs_confs = gen_lineplots([files_10[0]], weights_params_l2_mu_off, M = 15)"
   ]
  },
  {
   "cell_type": "code",
   "execution_count": 25,
   "metadata": {},
   "outputs": [
    {
     "name": "stdout",
     "output_type": "stream",
     "text": [
      "resnet_wide32_c10\n"
     ]
    }
   ],
   "source": [
    "conf_ECE_accs_confs = gen_lineplots([files_10[0]], weights_params_l2_mu_off, M = 15, classes=-1)"
   ]
  },
  {
   "cell_type": "code",
   "execution_count": 26,
   "metadata": {},
   "outputs": [],
   "source": [
    "def plot_comp1(bin_info, k = 0):\n",
    "    \n",
    "    if k != -1:\n",
    "        bin_info = bin_info[k]\n",
    "        \n",
    "    accs = bin_info[0, 0]\n",
    "    accs_temp = bin_info[1, 0]\n",
    "    accs_dir = bin_info[2, 0]\n",
    "\n",
    "\n",
    "    x = np.linspace(0, 1, 15)\n",
    "    plt.plot(x, x, linestyle=\":\", color = \"gray\")\n",
    "    plt.step(x = x, y = accs, where=\"mid\", linestyle=\"--\", color = \"red\",\n",
    "              linewidth=2.5, label=\"Uncal. (ECE=%0.4f)\" % get_errors(bin_info[0])[1])\n",
    "    plt.step(x = x, y = accs_temp, where=\"mid\", linestyle=\"-.\", color = \"blue\",\n",
    "              linewidth=2.5, label=\"Temp. (ECE=%0.4f)\" % get_errors(bin_info[1])[1])\n",
    "    plt.step(x = x, y = accs_dir, where=\"mid\", linestyle=\"-\", color=\"green\", \n",
    "              linewidth=2.5, label=\"Diri.    (ECE=%0.4f)\" % get_errors(bin_info[2])[1])\n",
    "    plt.legend(prop={'size': 12})\n",
    "    \n",
    "    #plt.axes.Axes.set_aspect('equal')\n",
    "    \n",
    "    if k == -1:\n",
    "        plt.title(\"Confidence ECE\")\n",
    "    else:\n",
    "        plt.title(\"Calibration of class %i\" % k)\n",
    "    \n",
    "    #plt.savefig(\"Comp1_k=%i.pdf\" % k, format='pdf', dpi=1000, bbox_inches='tight', pad_inches=0.2)\n",
    "    #plt.show()"
   ]
  },
  {
   "cell_type": "code",
   "execution_count": 27,
   "metadata": {},
   "outputs": [],
   "source": [
    "def get_errors(bin_info):\n",
    "    # Get error_standardized and ECE\n",
    "    \n",
    "    error = np.abs(np.array(bin_info[0]) - np.array(bin_info[1]))\n",
    "    lens = bin_info[2]\n",
    "    n = sum(lens)\n",
    "    error_norm = error*lens/n\n",
    "    error_standard = error_norm/sum(error_norm)\n",
    "    ECE = sum(error_norm)\n",
    "    \n",
    "    return error_standard, ECE"
   ]
  },
  {
   "cell_type": "code",
   "execution_count": 28,
   "metadata": {},
   "outputs": [],
   "source": [
    "# reliability diagram plotting for subplot case.\n",
    "def rel_diagram_sub2(accs, confs, ax, M = 10, name = \"Reliability Diagram\", xname = \"\", yname=\"\", \n",
    "                     gname = \"Gap (conf-ECE=%0.4f)\", ece = -1, leg_name = \"Observed accuracy\"):\n",
    "\n",
    "    acc_conf = np.column_stack([accs,confs])\n",
    "    #acc_conf.sort(axis=1)  # No need to sort\n",
    "    outputs = np.array(accs)  # Accuracy\n",
    "    gap = confs - outputs  # Absolute difference between accuracy and confidence\n",
    "    bottoms = accs\n",
    "\n",
    "    bin_size = 1/M\n",
    "    positions = np.arange(0+bin_size/2, 1+bin_size/2, bin_size)\n",
    "\n",
    "\n",
    "    #Bars with outputs\n",
    "    output_plt = ax.bar(positions, outputs, width = bin_size, edgecolor = \"black\", color = \"blue\", label=leg_name, \n",
    "                        alpha = 1, zorder = 2)\n",
    "\n",
    "    # Plot gap first, so its below everything\n",
    "    gap_plt = ax.bar(positions, gap, bottom = bottoms, width = bin_size*0.3, edgecolor = \"red\", color = \"#ffc8c6\", \n",
    "                 alpha = 1, label=gname % ece, linewidth=1, zorder=2)\n",
    "\n",
    "\n",
    "\n",
    "    # Line plot with center line.\n",
    "    ax.set_aspect('equal')\n",
    "    ax.plot([0,1], [0,1], linestyle = \"--\")\n",
    "    ax.legend(handles = [gap_plt, output_plt], prop={'size': 15})\n",
    "    ax.set_xlim(0,1)\n",
    "    ax.set_ylim(0,1)\n",
    "    ax.set_title(name, fontsize=24)\n",
    "    ax.set_xlabel(xname, fontsize=22, color = \"black\")\n",
    "    ax.set_ylabel(yname, fontsize=22, color = \"black\")\n",
    "    \n",
    "    for tick in ax.xaxis.get_major_ticks():\n",
    "        tick.label.set_fontsize(15) \n",
    "        #tick.label.set_rotation('vertical')\n",
    "    \n",
    "    for tick in ax.yaxis.get_major_ticks():\n",
    "        tick.label.set_fontsize(15) \n"
   ]
  },
  {
   "cell_type": "markdown",
   "metadata": {},
   "source": [
    "### Figure 1 in the main article."
   ]
  },
  {
   "cell_type": "code",
   "execution_count": 29,
   "metadata": {},
   "outputs": [
    {
     "data": {
      "image/png": "[encoded data removed]",
      "text/plain": [
       "<Figure size 2160x432 with 4 Axes>"
      ]
     },
     "metadata": {
      "needs_background": "light"
     },
     "output_type": "display_data"
    }
   ],
   "source": [
    "ece1 = get_errors(conf_ECE_accs_confs[0])[1]\n",
    "ece2 = get_errors(conf_ECE_accs_confs[1])[1]\n",
    "ece3 = get_errors(k_accs_confs[2][1])[1]\n",
    "ece4 = get_errors(k_accs_confs[2][2])[1]\n",
    "\n",
    "\n",
    "fig = plt.figure(figsize=(30,6))\n",
    "#fig.set_edgecolor('red')\n",
    "ax0 = fig.add_subplot(141)\n",
    "rel_diagram_sub2(conf_ECE_accs_confs[0][0], conf_ECE_accs_confs[0][1], ax0 , M = 15, \n",
    "                            name = \"(a) Confidence ECE (Uncal.)\", xname=\"\", ece = ece1)\n",
    "ax1 = fig.add_subplot(142)\n",
    "rel_diagram_sub2(conf_ECE_accs_confs[1][0], conf_ECE_accs_confs[1][1], ax1 , M = 15, \n",
    "                            name = \"(b) Confidence ECE (Temp.)\", xname=\"\", ece = ece2)\n",
    "\n",
    "ax2 = fig.add_subplot(143, sharex=ax1)\n",
    "\n",
    "rel_diagram_sub2(k_accs_confs[2][1][0], k_accs_confs[2][1][1], ax2 , M = 15, \n",
    "                            name = \"(c) Class 2 reliability (Temp.Scal.)\", xname=\"\", \n",
    "                 gname=r'Gap (class-2-ECE=%0.4f)', ece = ece3, leg_name = \"Observed frequency\")\n",
    "\n",
    "ax3 = fig.add_subplot(144, sharex=ax1)\n",
    "\n",
    "rel_diagram_sub2(k_accs_confs[2][2][0], k_accs_confs[2][2][1], ax3 , M = 15, \n",
    "                            name = \"(d) Class 2 reliability (Dirichlet Cal.)\", xname=\"\", \n",
    "                 gname=r'Gap (class-2-ECE=%0.4f)', ece = ece4, leg_name = \"Observed frequency\")\n",
    "\n",
    "names = [\"(a) Conf-reliability (Uncal.)\", \"(b) Conf-reliability (Temp.Scal.)\",\n",
    "         \"(c) Class 2 reliability (Temp.Scal.)\", \"(d) Class 2 reliability (Dirichlet Cal.)\"]\n",
    "\n",
    "axes_all = [ax0, ax1, ax2, ax3]\n",
    "\n",
    "for i, ax in enumerate(axes_all):\n",
    "    ax.set_aspect(\"equal\")\n",
    "    ax.set_xlim(0,1)\n",
    "    ax.set_ylim(0,1)\n",
    "    ax.set_title(names[i], fontsize=22)\n",
    "    ax.set_ylabel(\"Accuracy\", fontsize=20, color = \"black\")\n",
    "    ax.set_xlabel(\"Confidence\", fontsize=20, color = \"black\")\n",
    "    \n",
    "for ax in axes_all[2:]:\n",
    "    ax.set_ylabel(\"Frequency\", fontsize=20, color = \"black\")\n",
    "    ax.set_xlabel(\"Predicted Probability\", fontsize=20, color = \"black\")\n",
    "\n",
    "plt.savefig(\"figure_RD_ECE.pdf\", format='pdf', dpi=1000, bbox_inches='tight', pad_inches=0.2)\n",
    "plt.show()"
   ]
  },
  {
   "cell_type": "markdown",
   "metadata": {},
   "source": [
    "## Figure 12 in Supplemental Material"
   ]
  },
  {
   "cell_type": "code",
   "execution_count": 30,
   "metadata": {},
   "outputs": [
    {
     "data": {
      "image/png": "[encoded data removed]",
      "text/plain": [
       "<Figure size 2160x432 with 2 Axes>"
      ]
     },
     "metadata": {
      "needs_background": "light"
     },
     "output_type": "display_data"
    }
   ],
   "source": [
    "ece1 = get_errors(conf_ECE_accs_confs[0])[1]\n",
    "ece2 = get_errors(conf_ECE_accs_confs[1])[1]\n",
    "ece3 = get_errors(k_accs_confs[4][1])[1]\n",
    "ece4 = get_errors(k_accs_confs[4][2])[1]\n",
    "\n",
    "\n",
    "fig = plt.figure(figsize=(30,6))\n",
    "#fig.set_edgecolor('red')\n",
    "#ax0 = fig.add_subplot(141)\n",
    "#rel_diagram_sub2(conf_ECE_accs_confs[0][0], conf_ECE_accs_confs[0][1], ax0 , M = 15, \n",
    "#                            name = \"(a) Confidence ECE (Uncal.)\", xname=\"\", ece = ece1)\n",
    "#ax1 = fig.add_subplot(142)\n",
    "#rel_diagram_sub2(conf_ECE_accs_confs[1][0], conf_ECE_accs_confs[1][1], ax1 , M = 15, \n",
    "#                            name = \"(b) Confidence ECE (Temp.)\", xname=\"\", ece = ece2)\n",
    "\n",
    "ax2 = fig.add_subplot(143, sharex=ax1)\n",
    "\n",
    "rel_diagram_sub2(k_accs_confs[4][1][0], k_accs_confs[2][1][1], ax2 , M = 15, \n",
    "                            name = \"(c) Class 2 reliability (Temp.Scal.)\", xname=\"\", \n",
    "                 gname=r'Gap (class-4-ECE=%0.4f)', ece = ece3, leg_name = \"Observed frequency\")\n",
    "\n",
    "ax3 = fig.add_subplot(144, sharex=ax1)\n",
    "\n",
    "rel_diagram_sub2(k_accs_confs[4][2][0], k_accs_confs[2][2][1], ax3 , M = 15, \n",
    "                            name = \"(d) Class 2 reliability (Dirichlet Cal.)\", xname=\"\", \n",
    "                 gname=r'Gap (class-4-ECE=%0.4f)', ece = ece4, leg_name = \"Observed frequency\")\n",
    "\n",
    "names = [\"(a) Conf-reliability (Uncal.)\", \"(b) Conf-reliability (Temp.Scal.)\",\n",
    "         \"(a) Class 4 reliability (Temp.Scal.)\", \"(b) Class 4 reliability (Dirichlet Cal.)\"]\n",
    "\n",
    "axes_all = [ax0, ax1, ax2, ax3]\n",
    "\n",
    "for i, ax in enumerate(axes_all):\n",
    "    ax.set_aspect(\"equal\")\n",
    "    ax.set_xlim(0,1)\n",
    "    ax.set_ylim(0,1)\n",
    "    ax.set_title(names[i], fontsize=22)\n",
    "    ax.set_ylabel(\"Accuracy\", fontsize=20, color = \"black\")\n",
    "    ax.set_xlabel(\"Confidence\", fontsize=20, color = \"black\")\n",
    "    \n",
    "for ax in axes_all[2:]:\n",
    "    ax.set_ylabel(\"Frequency\", fontsize=20, color = \"black\")\n",
    "    ax.set_xlabel(\"Predicted Probability\", fontsize=20, color = \"black\")\n",
    "\n",
    "plt.savefig(\"figure_RD_ECE_class4.pdf\", format='pdf', dpi=1000, bbox_inches='tight', pad_inches=0.2)\n",
    "plt.show()"
   ]
  },
  {
   "cell_type": "code",
   "execution_count": null,
   "metadata": {},
   "outputs": [],
   "source": []
  }
 ],
 "metadata": {
  "kernelspec": {
   "display_name": "Python 3",
   "language": "python",
   "name": "python3"
  },
  "language_info": {
   "codemirror_mode": {
    "name": "ipython",
    "version": 3
   },
   "file_extension": ".py",
   "mimetype": "text/x-python",
   "name": "python",
   "nbconvert_exporter": "python",
   "pygments_lexer": "ipython3",
   "version": "3.6.9"
  }
 },
 "nbformat": 4,
 "nbformat_minor": 2
}
